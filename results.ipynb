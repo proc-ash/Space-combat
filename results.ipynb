{
 "cells": [
  {
   "cell_type": "code",
   "execution_count": 4,
   "metadata": {},
   "outputs": [],
   "source": [
    "import numpy as np\n",
    "from tensorflow.keras.models import model_from_json\n",
    "import operator\n",
    "import cv2\n",
    "import sys, os\n",
    "import time\n",
    "import random"
   ]
  },
  {
   "cell_type": "markdown",
   "metadata": {},
   "source": [
    "\n",
    "\n",
    "\n",
    "\n",
    "#### Loading the model"
   ]
  },
  {
   "cell_type": "code",
   "execution_count": 5,
   "metadata": {},
   "outputs": [
    {
     "name": "stdout",
     "output_type": "stream",
     "text": [
      "Loaded model from disk\n"
     ]
    }
   ],
   "source": [
    "json_file = open(\"model-bw.json\", \"r\")\n",
    "model_json = json_file.read()\n",
    "json_file.close()\n",
    "loaded_model = model_from_json(model_json)\n",
    "# load weights into new model\n",
    "loaded_model.load_weights(\"model-bw.h5\")\n",
    "print(\"Loaded model from disk\")"
   ]
  },
  {
   "cell_type": "markdown",
   "metadata": {},
   "source": [
    "#### CLassifying results"
   ]
  },
  {
   "cell_type": "code",
   "execution_count": 6,
   "metadata": {},
   "outputs": [],
   "source": [
    "cap = cv2.VideoCapture(0,cv2.CAP_DSHOW)\n",
    "\n",
    "# Category dictionary\n",
    "categories = {'BR': 'Fire', 'RL': 'Left', 'RR': 'Right', 'SG': 'Start Game'}\n",
    "\n",
    "while True:\n",
    "    ret, frame = cap.read()\n",
    "    # Simulating mirror image\n",
    "    frame = cv2.flip(frame, 2)\n",
    "    \n",
    "    # Got this from collect-data.py\n",
    "    # Coordinates of the ROI\n",
    "    x1 = int(0.5*frame.shape[1])\n",
    "    y1 = 10\n",
    "    x2 = frame.shape[1]-10\n",
    "    y2 = int(0.5*frame.shape[1])\n",
    "    # Drawing the ROI\n",
    "    # The increment/decrement by 1 is to compensate for the bounding box\n",
    "    cv2.rectangle(frame, (x1-1, y1-1), (x2+1, y2+1), (255,0,0) ,1)\n",
    "    # Extracting the ROI\n",
    "    roi = frame[y1:y2, x1:x2]\n",
    "    \n",
    "    # Resizing the ROI so it can be fed to the model for prediction\n",
    "    roi = cv2.resize(roi, (64, 64)) \n",
    "    roi = cv2.cvtColor(roi, cv2.COLOR_BGR2GRAY)\n",
    "    _, test_image = cv2.threshold(roi, 120, 255, cv2.THRESH_BINARY)\n",
    "    cv2.imshow(\"test\", test_image)\n",
    "    result = loaded_model.predict(test_image.reshape(1, 64, 64, 1))\n",
    "    prediction = {'Fire': result[0][0], 'Left': result[0][1], 'Right': result[0][2],'Start Game': result[0][3]}\n",
    "    # Sorting based on top prediction\n",
    "    prediction = sorted(prediction.items(), key=operator.itemgetter(1), reverse=True)\n",
    "    \n",
    "    \n",
    "    # Displaying the predictions\n",
    "    cv2.putText(frame, prediction[0][0], (10, 120), cv2.FONT_HERSHEY_PLAIN, 1, (0,255,255), 1)    \n",
    "    cv2.imshow(\"Frame\", frame)\n",
    "    interrupt = cv2.waitKey(10)\n",
    "    if interrupt & 0xFF == 27: # esc key\n",
    "        break\n",
    "        \n",
    "cap.release()\n",
    "cv2.destroyAllWindows()"
   ]
  },
  {
   "cell_type": "code",
   "execution_count": 5,
   "metadata": {},
   "outputs": [
    {
     "ename": "SyntaxError",
     "evalue": "invalid syntax (<ipython-input-5-d17e911c0545>, line 250)",
     "output_type": "error",
     "traceback": [
      "\u001b[1;36m  File \u001b[1;32m\"<ipython-input-5-d17e911c0545>\"\u001b[1;36m, line \u001b[1;32m250\u001b[0m\n\u001b[1;33m    if prediction[2][2]== result[3]\u001b[0m\n\u001b[1;37m                                   ^\u001b[0m\n\u001b[1;31mSyntaxError\u001b[0m\u001b[1;31m:\u001b[0m invalid syntax\n"
     ]
    }
   ],
   "source": [
    "#Game Dev\n",
    "WIDTH, HEIGHT = 1000, 700\n",
    "WIN = pygame.display.set_mode((WIDTH, HEIGHT))\n",
    "pygame.display.set_caption(\"Ghost Combat\")\n",
    "\n",
    "# Load images\n",
    "RED_SPACE_SHIP =pygame.transform.scale(pygame.image.load(os.path.join(\"Game/assets\", \"enemy.png\")),(50,70))\n",
    "\n",
    "# Player player\n",
    "SPACE_SHIP = pygame.transform.scale(pygame.image.load(os.path.join(\"Game/assets\", \"gun.png\")),(50,70))\n",
    "\n",
    "# Lasers\n",
    "RED_LASER = pygame.image.load(os.path.join(\"Game/assets\", \"pixel_laser_red.png\"))\n",
    "BLUE_LASER = pygame.image.load(os.path.join(\"Game/assets\", \"pixel_laser_blue.png\"))\n",
    "\n",
    "# Background\n",
    "BG = pygame.transform.scale(pygame.image.load(os.path.join(\"Game/assets\", \"background.png\")), (WIDTH, HEIGHT))\n",
    "\n",
    "#Load Sound effect\n",
    "HIT_SOUND=pygame.mixer.Sound(os.path.join(\"Game/assets\",'Grenade+1.mp3'))\n",
    "FIRE_SOUND=pygame.mixer.Sound(os.path.join(\"Game/assets\",'Gun+Silencer.mp3'))\n",
    "\n",
    "class Laser:\n",
    "    def __init__(self, x, y, img):\n",
    "        self.x = x\n",
    "        self.y = y\n",
    "        self.img = img\n",
    "        self.mask = pygame.mask.from_surface(self.img)\n",
    "\n",
    "    def draw(self, window):\n",
    "        window.blit(self.img, (self.x, self.y))\n",
    "\n",
    "    def move(self, vel):\n",
    "        self.y += vel\n",
    "\n",
    "    def off_screen(self, height):\n",
    "        return not(self.y <= height and self.y >= 0)\n",
    "\n",
    "    def collision(self, obj):\n",
    "        return collide(self, obj)\n",
    "\n",
    "\n",
    "class Ship:\n",
    "    COOLDOWN = 30\n",
    "\n",
    "    def __init__(self, x, y, health=100):\n",
    "        self.x = x\n",
    "        self.y = y\n",
    "        self.health = health\n",
    "        self.ship_img = None\n",
    "        self.laser_img = None\n",
    "        self.lasers = []\n",
    "        self.cool_down_counter = 0\n",
    "\n",
    "    def draw(self, window):\n",
    "        window.blit(self.ship_img, (self.x, self.y))\n",
    "        for laser in self.lasers:\n",
    "            laser.draw(window)\n",
    "\n",
    "    def move_lasers(self, vel, obj):\n",
    "        self.cooldown()\n",
    "        for laser in self.lasers:\n",
    "            laser.move(vel)\n",
    "            if laser.off_screen(HEIGHT):\n",
    "                self.lasers.remove(laser)\n",
    "            elif laser.collision(obj):\n",
    "                obj.health -= 10\n",
    "                self.lasers.remove(laser)\n",
    "\n",
    "    def cooldown(self):\n",
    "        if self.cool_down_counter >= self.COOLDOWN:\n",
    "            self.cool_down_counter = 0\n",
    "        elif self.cool_down_counter > 0:\n",
    "            self.cool_down_counter += 1\n",
    "\n",
    "    def shoot(self):\n",
    "        if self.cool_down_counter == 0:\n",
    "            laser = Laser(self.x, self.y, self.laser_img)\n",
    "            self.lasers.append(laser)\n",
    "            self.cool_down_counter = 1\n",
    "\n",
    "    def get_width(self):\n",
    "        return self.ship_img.get_width()\n",
    "\n",
    "    def get_height(self):\n",
    "        return self.ship_img.get_height()\n",
    "\n",
    "\n",
    "class Player(Ship):\n",
    "    def __init__(self, x, y, health=100):\n",
    "        super().__init__(x, y, health)\n",
    "        self.ship_img = SPACE_SHIP\n",
    "        self.laser_img = BLUE_LASER\n",
    "        self.mask = pygame.mask.from_surface(self.ship_img)\n",
    "        self.max_health = health\n",
    "\n",
    "    def move_lasers(self, vel, objs):\n",
    "        self.cooldown()\n",
    "        for laser in self.lasers:\n",
    "            laser.move(vel)\n",
    "            if laser.off_screen(HEIGHT):\n",
    "                self.lasers.remove(laser)\n",
    "            else:\n",
    "                for obj in objs:\n",
    "                    if laser.collision(obj):\n",
    "                        objs.remove(obj)\n",
    "                        if laser in self.lasers:\n",
    "                            self.lasers.remove(laser)\n",
    "\n",
    "    def draw(self, window):\n",
    "        super().draw(window)\n",
    "        self.healthbar(window)\n",
    "\n",
    "    def healthbar(self, window):\n",
    "        pygame.draw.rect(window, (255,0,0), (self.x, self.y + self.ship_img.get_height() + 10, self.ship_img.get_width(), 10))\n",
    "        pygame.draw.rect(window, (0,255,0), (self.x, self.y + self.ship_img.get_height() + 10, self.ship_img.get_width() * (self.health/self.max_health), 10))\n",
    "\n",
    "\n",
    "class Enemy(Ship):\n",
    "    COLOR_MAP = {\n",
    "                \"red\": (RED_SPACE_SHIP, RED_LASER),\n",
    "                }\n",
    "\n",
    "    def __init__(self, x, y, color, health=100):\n",
    "        super().__init__(x, y, health)\n",
    "        self.ship_img, self.laser_img = self.COLOR_MAP[color]\n",
    "        self.mask = pygame.mask.from_surface(self.ship_img)\n",
    "\n",
    "    def move(self, vel):\n",
    "        self.y += vel\n",
    "\n",
    "    def shoot(self):\n",
    "         if self.cool_down_counter == 0:\n",
    "             laser = Laser(self.x-20, self.y, self.laser_img)\n",
    "             self.lasers.append(laser)\n",
    "             self.cool_down_counter = 1\n",
    "\n",
    "\n",
    "def collide(obj1, obj2):\n",
    "    offset_x = obj2.x - obj1.x\n",
    "    offset_y = obj2.y - obj1.y\n",
    "    return obj1.mask.overlap(obj2.mask, (offset_x, offset_y)) != None\n",
    "\n",
    "def main():\n",
    "    run = True\n",
    "    FPS = 60\n",
    "    level = 0\n",
    "    lives = 5\n",
    "    main_font = pygame.font.SysFont(\"comicsans\", 50)\n",
    "    lost_font = pygame.font.SysFont(\"comicsans\", 60)\n",
    "\n",
    "    enemies = []\n",
    "    wave_length = 5\n",
    "    enemy_vel = 1\n",
    "\n",
    "    player_vel = 5\n",
    "    laser_vel = 5\n",
    "\n",
    "    player = Player(500, 610)\n",
    "\n",
    "    clock = pygame.time.Clock()\n",
    "\n",
    "    lost = False\n",
    "    lost_count = 0\n",
    "\n",
    "    def redraw_window():\n",
    "        WIN.blit(BG, (0,0))\n",
    "        # draw text\n",
    "        lives_label = main_font.render(f\"Lives: {lives}\", 1, (255,255,255))\n",
    "        level_label = main_font.render(f\"Level: {level}\", 1, (255,255,255))\n",
    "\n",
    "        WIN.blit(lives_label, (10, 10))\n",
    "        WIN.blit(level_label, (WIDTH - level_label.get_width() - 10, 10))\n",
    "\n",
    "        for enemy in enemies:\n",
    "            enemy.draw(WIN)\n",
    "\n",
    "        player.draw(WIN)\n",
    "\n",
    "        if lost:\n",
    "            lost_label = lost_font.render(\"You Lost!!\", 1, (255,255,255))\n",
    "            WIN.blit(lost_label, (WIDTH/2 - lost_label.get_width()/2, 350))\n",
    "\n",
    "        pygame.display.update()\n",
    "\n",
    "    while run:\n",
    "        clock.tick(FPS)\n",
    "        redraw_window()\n",
    "\n",
    "        if lives <= 0 or player.health <= 0:\n",
    "            lost = True\n",
    "            lost_count += 1\n",
    "\n",
    "        if lost:\n",
    "            if lost_count > FPS * 3:\n",
    "                run = False\n",
    "            else:\n",
    "                continue\n",
    "\n",
    "        if len(enemies) == 0:\n",
    "            level += 1\n",
    "            wave_length += 3\n",
    "            for i in range(wave_length):\n",
    "                enemy = Enemy(random.randrange(50, WIDTH-100), random.randrange(-1500, -100), random.choice([\"red\"]))\n",
    "                enemies.append(enemy)\n",
    "\n",
    "        for event in pygame.event.get():\n",
    "            if event.type == pygame.QUIT:\n",
    "                quit()\n",
    "\n",
    "        keys = pygame.key.get_pressed()\n",
    "        if prediction[1][1]== result[2] and player.x - player_vel > 0: # left\n",
    "            player.x -= player_vel\n",
    "        if prediction[0][0]== result[1] and player.x + player_vel + player.get_width() < WIDTH: # right\n",
    "            player.x += player_vel\n",
    "        if prediction[3][3]== result[0]:\n",
    "            player.shoot()\n",
    "            FIRE_SOUND.play()\n",
    "\n",
    "        for enemy in enemies[:]:\n",
    "            enemy.move(enemy_vel)\n",
    "            enemy.move_lasers(laser_vel, player)\n",
    "\n",
    "            if random.randrange(0, 2*60) == 1:\n",
    "                enemy.shoot()\n",
    "                FIRE_SOUND.play()\n",
    "\n",
    "            if collide(enemy, player):\n",
    "                player.health -= 10\n",
    "                HIT_SOUND.play()\n",
    "                enemies.remove(enemy)\n",
    "            elif enemy.y + enemy.get_height() > HEIGHT:\n",
    "                lives -= 1\n",
    "                enemies.remove(enemy)\n",
    "\n",
    "        player.move_lasers(-laser_vel, enemies)\n",
    "\n",
    "def main_menu():\n",
    "    title_font = pygame.font.SysFont(\"comicsans\", 70)\n",
    "    run = True\n",
    "    while run:\n",
    "        WIN.blit(BG, (0,0))\n",
    "        title_label = title_font.render(\"Welcome to Ghost Combat...\", 1, (255,255,255))\n",
    "        WIN.blit(title_label, (WIDTH/2 - title_label.get_width()/2, 350))\n",
    "        pygame.display.update()\n",
    "        for event in pygame.event.get():\n",
    "            if event.type == pygame.QUIT:\n",
    "                run = False\n",
    "                pygame.quit()\n",
    "            if prediction[2][2]== result[3]\n",
    "                main()\n",
    "    main_menu()\n"
   ]
  },
  {
   "cell_type": "code",
   "execution_count": 4,
   "metadata": {},
   "outputs": [],
   "source": []
  },
  {
   "cell_type": "code",
   "execution_count": 4,
   "metadata": {
    "scrolled": true
   },
   "outputs": [
    {
     "data": {
      "text/plain": [
       "array([[0.13929276, 0.39080355, 0.30272824, 0.1671755 ]], dtype=float32)"
      ]
     },
     "execution_count": 4,
     "metadata": {},
     "output_type": "execute_result"
    }
   ],
   "source": [
    "#result"
   ]
  },
  {
   "cell_type": "code",
   "execution_count": 5,
   "metadata": {},
   "outputs": [
    {
     "data": {
      "text/plain": [
       "[('Rotate Right', 0.39080355),\n",
       " ('Rotate Left', 0.30272824),\n",
       " ('Start Game', 0.1671755),\n",
       " ('Break', 0.13929276)]"
      ]
     },
     "execution_count": 5,
     "metadata": {},
     "output_type": "execute_result"
    }
   ],
   "source": [
    "#prediction"
   ]
  },
  {
   "cell_type": "code",
   "execution_count": 15,
   "metadata": {},
   "outputs": [
    {
     "data": {
      "text/plain": [
       "0.30272824"
      ]
     },
     "execution_count": 15,
     "metadata": {},
     "output_type": "execute_result"
    }
   ],
   "source": [
    "#prediction[1][1]"
   ]
  },
  {
   "cell_type": "code",
   "execution_count": 4,
   "metadata": {},
   "outputs": [],
   "source": [
    "#results 4th value is Start Game\n",
    "#results 3rd value is rotate left\n",
    "#results 2nd value is Rotate Right\n",
    "#results 1st value is Break\n",
    "import mouse"
   ]
  },
  {
   "cell_type": "code",
   "execution_count": 7,
   "metadata": {},
   "outputs": [],
   "source": [
    "#if prediction[0][0]== result[1] #rotate right\n",
    "#if prediction[1][1]== result[2] #rotate left\n",
    "#if prediction[2][2]== result[3] #Start Game\n",
    "#if prediction[3][3]== resul"
   ]
  },
  {
   "cell_type": "code",
   "execution_count": 4,
   "metadata": {},
   "outputs": [
    {
     "ename": "error",
     "evalue": "video system not initialized",
     "output_type": "error",
     "traceback": [
      "\u001b[1;31m---------------------------------------------------------------------------\u001b[0m",
      "\u001b[1;31merror\u001b[0m                                     Traceback (most recent call last)",
      "\u001b[1;32m<ipython-input-4-7061aa19a2be>\u001b[0m in \u001b[0;36m<module>\u001b[1;34m\u001b[0m\n\u001b[1;32m----> 1\u001b[1;33m \u001b[0mpygame\u001b[0m\u001b[1;33m.\u001b[0m\u001b[0mkey\u001b[0m\u001b[1;33m.\u001b[0m\u001b[0mget_pressed\u001b[0m\u001b[1;33m(\u001b[0m\u001b[1;33m)\u001b[0m\u001b[1;33m\u001b[0m\u001b[1;33m\u001b[0m\u001b[0m\n\u001b[0m",
      "\u001b[1;31merror\u001b[0m: video system not initialized"
     ]
    }
   ],
   "source": []
  },
  {
   "cell_type": "code",
   "execution_count": null,
   "metadata": {},
   "outputs": [],
   "source": []
  }
 ],
 "metadata": {
  "kernelspec": {
   "display_name": "DL",
   "language": "python",
   "name": "dl"
  },
  "language_info": {
   "codemirror_mode": {
    "name": "ipython",
    "version": 3
   },
   "file_extension": ".py",
   "mimetype": "text/x-python",
   "name": "python",
   "nbconvert_exporter": "python",
   "pygments_lexer": "ipython3",
   "version": "3.8.5"
  }
 },
 "nbformat": 4,
 "nbformat_minor": 4
}
