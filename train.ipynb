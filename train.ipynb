{
 "cells": [
  {
   "cell_type": "code",
   "execution_count": 1,
   "metadata": {},
   "outputs": [],
   "source": [
    "import keras\n",
    "from matplotlib import pyplot as plt \n",
    "import numpy as np\n",
    "import pandas as pd \n",
    "from keras.layers import Conv2D,MaxPooling2D,Dense,Flatten,Dropout,BatchNormalization,MaxPool2D\n",
    "from keras import Sequential\n",
    "import np_utils\n",
    "import cv2\n",
    "from keras.preprocessing.image import ImageDataGenerator\n",
    "from keras.callbacks import EarlyStopping, ModelCheckpoint\n",
    "from keras.models import load_model"
   ]
  },
  {
   "cell_type": "markdown",
   "metadata": {},
   "source": [
    "## Step 1 - Building the CNN\n",
    "\n",
    "#### Initializing the CNN\n"
   ]
  },
  {
   "cell_type": "code",
   "execution_count": 2,
   "metadata": {},
   "outputs": [],
   "source": [
    "model= Sequential()"
   ]
  },
  {
   "cell_type": "markdown",
   "metadata": {},
   "source": [
    "### Creating a convolutional network and adding pooling\n"
   ]
  },
  {
   "cell_type": "code",
   "execution_count": 3,
   "metadata": {},
   "outputs": [],
   "source": [
    "# Creating a Sequential model\n",
    "#1st layer and pooling\n",
    "model.add(Conv2D(75 , (3,3) , activation = 'relu' , input_shape = (64,64,1)))\n",
    "#model.add(BatchNormalization())\n",
    "model.add(MaxPool2D((2,2)))\n",
    "#model.add(Dropout(0.3))\n",
    "\n",
    "model.add(Conv2D(50 , (3,3) ,  activation = 'relu'))\n",
    "#model.add(BatchNormalization())\n",
    "model.add(MaxPool2D((2,2)))\n",
    "#model.add(Dropout(0.3))\n",
    "\n",
    "model.add(Conv2D(25 , (3,3) , activation = 'relu'))\n",
    "#model.add(BatchNormalization())\n",
    "model.add(MaxPool2D((2,2)))\n",
    "#model.add(Dropout(0.3))\n",
    "\n"
   ]
  },
  {
   "cell_type": "markdown",
   "metadata": {},
   "source": [
    "### Adding final layer "
   ]
  },
  {
   "cell_type": "code",
   "execution_count": 4,
   "metadata": {},
   "outputs": [],
   "source": [
    "model.add(Flatten())\n",
    "model.add(Dense(units = 512 , activation = 'relu'))\n",
    "model.add(Dropout(0.3))\n",
    "\n",
    "opt = keras.optimizers.Adam(learning_rate=0.001)\n",
    "model.add(Dense(units = 4 , activation = 'softmax'))\n"
   ]
  },
  {
   "cell_type": "markdown",
   "metadata": {},
   "source": [
    "#### Compiling the model"
   ]
  },
  {
   "cell_type": "code",
   "execution_count": 5,
   "metadata": {},
   "outputs": [
    {
     "name": "stdout",
     "output_type": "stream",
     "text": [
      "Model: \"sequential\"\n",
      "_________________________________________________________________\n",
      "Layer (type)                 Output Shape              Param #   \n",
      "=================================================================\n",
      "conv2d (Conv2D)              (None, 62, 62, 75)        750       \n",
      "_________________________________________________________________\n",
      "max_pooling2d (MaxPooling2D) (None, 31, 31, 75)        0         \n",
      "_________________________________________________________________\n",
      "conv2d_1 (Conv2D)            (None, 29, 29, 50)        33800     \n",
      "_________________________________________________________________\n",
      "max_pooling2d_1 (MaxPooling2 (None, 14, 14, 50)        0         \n",
      "_________________________________________________________________\n",
      "conv2d_2 (Conv2D)            (None, 12, 12, 25)        11275     \n",
      "_________________________________________________________________\n",
      "max_pooling2d_2 (MaxPooling2 (None, 6, 6, 25)          0         \n",
      "_________________________________________________________________\n",
      "flatten (Flatten)            (None, 900)               0         \n",
      "_________________________________________________________________\n",
      "dense (Dense)                (None, 512)               461312    \n",
      "_________________________________________________________________\n",
      "dropout (Dropout)            (None, 512)               0         \n",
      "_________________________________________________________________\n",
      "dense_1 (Dense)              (None, 4)                 2052      \n",
      "=================================================================\n",
      "Total params: 509,189\n",
      "Trainable params: 509,189\n",
      "Non-trainable params: 0\n",
      "_________________________________________________________________\n"
     ]
    }
   ],
   "source": [
    "model.compile(optimizer = opt , loss = 'categorical_crossentropy' , metrics = ['accuracy'])\n",
    "model.summary()\n"
   ]
  },
  {
   "cell_type": "markdown",
   "metadata": {},
   "source": [
    "## Step 2 - Preparing the train/test data and training the model"
   ]
  },
  {
   "cell_type": "code",
   "execution_count": 6,
   "metadata": {},
   "outputs": [
    {
     "name": "stdout",
     "output_type": "stream",
     "text": [
      "Found 15603 images belonging to 4 classes.\n",
      "Found 2035 images belonging to 4 classes.\n"
     ]
    }
   ],
   "source": [
    "from tensorflow.keras.preprocessing.image import ImageDataGenerator\n",
    "\n",
    "train_datagen =ImageDataGenerator(\n",
    "        rescale=1./255,\n",
    "        shear_range=0.2,\n",
    "        zoom_range=0.2,\n",
    "        vertical_flip=True)\n",
    "test_datagen =ImageDataGenerator(rescale=1./255)\n",
    "train_generator = train_datagen.flow_from_directory(\n",
    "        'data/train',\n",
    "        target_size=(64, 64),\n",
    "        batch_size=20,\n",
    "        color_mode='grayscale',\n",
    "        class_mode='categorical')\n",
    "validation_generator = test_datagen.flow_from_directory(\n",
    "        'data/test',\n",
    "        target_size=(64, 64),\n",
    "        batch_size=20,\n",
    "        color_mode='grayscale',\n",
    "        class_mode='categorical')\n"
   ]
  },
  {
   "cell_type": "markdown",
   "metadata": {},
   "source": [
    "### training the model"
   ]
  },
  {
   "cell_type": "code",
   "execution_count": 7,
   "metadata": {},
   "outputs": [
    {
     "name": "stdout",
     "output_type": "stream",
     "text": [
      "Epoch 1/10\n",
      "497/497 [==============================] - 60s 119ms/step - loss: 0.2274 - accuracy: 0.9097 - val_loss: 1.0718 - val_accuracy: 0.7272\n",
      "Epoch 2/10\n",
      "497/497 [==============================] - 53s 106ms/step - loss: 0.0014 - accuracy: 0.9995 - val_loss: 0.3553 - val_accuracy: 0.8550\n",
      "Epoch 3/10\n",
      "497/497 [==============================] - 53s 106ms/step - loss: 0.0070 - accuracy: 0.9979 - val_loss: 0.5609 - val_accuracy: 0.8347\n",
      "Epoch 4/10\n",
      "497/497 [==============================] - 52s 104ms/step - loss: 0.0050 - accuracy: 0.9984 - val_loss: 0.4419 - val_accuracy: 0.8876\n",
      "Epoch 5/10\n",
      "497/497 [==============================] - 52s 105ms/step - loss: 0.0021 - accuracy: 0.9995 - val_loss: 0.7946 - val_accuracy: 0.8178\n",
      "Epoch 6/10\n",
      "497/497 [==============================] - 50s 100ms/step - loss: 1.1725e-04 - accuracy: 1.0000 - val_loss: 0.6267 - val_accuracy: 0.8446\n",
      "Epoch 7/10\n",
      "497/497 [==============================] - 49s 99ms/step - loss: 5.6263e-05 - accuracy: 1.0000 - val_loss: 0.5406 - val_accuracy: 0.8609\n",
      "Epoch 8/10\n",
      "497/497 [==============================] - 49s 99ms/step - loss: 9.5430e-06 - accuracy: 1.0000 - val_loss: 0.3799 - val_accuracy: 0.8881\n",
      "Epoch 9/10\n",
      "497/497 [==============================] - 52s 104ms/step - loss: 1.2302e-04 - accuracy: 1.0000 - val_loss: 1.7417 - val_accuracy: 0.7708\n",
      "Epoch 10/10\n",
      "497/497 [==============================] - 51s 104ms/step - loss: 0.0228 - accuracy: 0.9943 - val_loss: 1.0269 - val_accuracy: 0.8223\n"
     ]
    },
    {
     "data": {
      "text/plain": [
       "<tensorflow.python.keras.callbacks.History at 0x2033679bac0>"
      ]
     },
     "execution_count": 7,
     "metadata": {},
     "output_type": "execute_result"
    }
   ],
   "source": [
    "model.fit(\n",
    "        train_generator,\n",
    "        steps_per_epoch=9947//20,\n",
    "        epochs=10,\n",
    "        validation_data=validation_generator,\n",
    "        validation_steps=2035//20\n",
    "        )"
   ]
  },
  {
   "cell_type": "markdown",
   "metadata": {},
   "source": [
    "#### Saving the model"
   ]
  },
  {
   "cell_type": "code",
   "execution_count": 8,
   "metadata": {},
   "outputs": [],
   "source": [
    "model_json = model.to_json()\n",
    "with open(\"model-bw.json\", \"w\") as json_file:\n",
    "    json_file.write(model_json)\n",
    "model.save_weights('model-bw.h5')"
   ]
  },
  {
   "cell_type": "code",
   "execution_count": null,
   "metadata": {},
   "outputs": [],
   "source": []
  }
 ],
 "metadata": {
  "kernelspec": {
   "display_name": "DL",
   "language": "python",
   "name": "dl"
  },
  "language_info": {
   "codemirror_mode": {
    "name": "ipython",
    "version": 3
   },
   "file_extension": ".py",
   "mimetype": "text/x-python",
   "name": "python",
   "nbconvert_exporter": "python",
   "pygments_lexer": "ipython3",
   "version": "3.8.5"
  }
 },
 "nbformat": 4,
 "nbformat_minor": 4
}
